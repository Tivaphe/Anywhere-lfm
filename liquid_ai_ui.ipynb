{
 "cells": [
  {
   "cell_type": "code",
   "execution_count": null,
   "metadata": {},
   "outputs": [],
   "source": [
    "import ipywidgets as widgets\n",
    "from IPython.display import display\n",
    "from model_loader import load_model\n",
    "import torch"
   ]
  },
  {
   "cell_type": "code",
   "execution_count": null,
   "metadata": {},
   "outputs": [],
   "source": [
    "model_selection = widgets.Dropdown(\n",
    "    options=[\"LiquidAI/LFM2-1.2B\", \"LiquidAI/LFM2-700M\", \"LiquidAI/LFM2-350M\"],\n",
    "    value=\"LiquidAI/LFM2-700M\",\n",
    "    description='Modèle:',\n",
    "    disabled=False,\n",
    ")\n",
    "\n",
    "text_input = widgets.Textarea(\n",
    "    value='Bonjour, comment ça va?',\n",
    "    placeholder='Entrez votre texte ici',\n",
    "    description='Entrée:',\n",
    "    disabled=False\n",
    ")\n",
    "\n",
    "generate_button = widgets.Button(\n",
    "    description='Générer',\n",
    "    disabled=False,\n",
    "    button_style='success', \n",
    "    tooltip='Cliquez pour générer du texte',\n",
    "    icon='check'\n",
    ")\n",
    "\n",
    "output_text = widgets.Output()\n",
    "\n",
    "def generate_text(b):\n",
    "    with output_text:\n",
    "        output_text.clear_output()\n",
    "        print(\"Chargement du modèle...\")\n",
    "        try:\n",
    "            tokenizer, model = load_model(model_selection.value)\n",
    "            print(\"Modèle chargé. Génération de texte...\")\n",
    "            inputs = tokenizer(text_input.value, return_tensors=\"pt\")\n",
    "            with torch.no_grad():\n",
    "                outputs = model.generate(**inputs, max_length=50)\n",
    "            result = tokenizer.decode(outputs[0], skip_special_tokens=True)\n",
    "            print(\"Résultat:\")\n",
    "            print(result)\n",
    "        except Exception as e:\n",
    "            print(f\"Une erreur est survenue : {e}\")\n",
    "\n",
    "generate_button.on_click(generate_text)\n",
    "\n",
    "display(model_selection, text_input, generate_button, output_text)"
   ]
  }
 ],
 "metadata": {
  "kernelspec": {
   "display_name": "Python 3",
   "language": "python",
   "name": "python3"
  },
  "language_info": {
   "codemirror_mode": {
    "name": "ipython",
    "version": 3
   },
   "file_extension": ".py",
   "mimetype": "text/x-python",
   "name": "python",
   "nbconvert_exporter": "python",
   "pygments_lexer": "ipython3",
   "version": "3.9.7"
  }
 },
 "nbformat": 4,
 "nbformat_minor": 4
}
